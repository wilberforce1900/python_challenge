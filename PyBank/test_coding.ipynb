{
 "cells": [
  {
   "cell_type": "code",
   "execution_count": 1,
   "id": "98282ba2-0df9-467d-b443-4cab28759215",
   "metadata": {},
   "outputs": [
    {
     "name": "stdout",
     "output_type": "stream",
     "text": [
      "Hello World\n"
     ]
    }
   ],
   "source": [
    "##2.1 course\n",
    "print(\"Hello World\")"
   ]
  },
  {
   "cell_type": "code",
   "execution_count": 2,
   "id": "bf08f207-ce85-4c20-84b2-f828ed09adf3",
   "metadata": {},
   "outputs": [
    {
     "name": "stdout",
     "output_type": "stream",
     "text": [
      "0\n",
      "1\n",
      "2\n",
      "3\n",
      "4\n",
      "------------------\n"
     ]
    }
   ],
   "source": [
    "# Loop thru a range of num(0 thru 4)\n",
    "for x in range(5):\n",
    "    print(x)\n",
    "print(\"------------------\")"
   ]
  },
  {
   "cell_type": "code",
   "execution_count": 3,
   "id": "8ba38f15-6d0e-4226-9299-7bcb40dac56a",
   "metadata": {},
   "outputs": [
    {
     "name": "stdout",
     "output_type": "stream",
     "text": [
      "2\n",
      "3\n",
      "4\n",
      "5\n",
      "6\n",
      "-----------------\n"
     ]
    }
   ],
   "source": [
    "# Loop thru a range of num (2 thru 6)\n",
    "for x in range(2,7):\n",
    "    print(x)\n",
    "print(\"-----------------\")"
   ]
  },
  {
   "cell_type": "code",
   "execution_count": 4,
   "id": "f8c2767d-d31a-4a79-b9d8-a06010ebf63a",
   "metadata": {},
   "outputs": [
    {
     "name": "stdout",
     "output_type": "stream",
     "text": [
      "P\n",
      "e\n",
      "a\n",
      "c\n",
      "e\n",
      "------------------\n"
     ]
    }
   ],
   "source": [
    "# Iterate thru letters in a string\n",
    "word = \"Peace\"\n",
    "for letters in word:\n",
    "    print(letters)\n",
    "print(\"------------------\")"
   ]
  },
  {
   "cell_type": "code",
   "execution_count": 8,
   "id": "0b98ef7e-9535-4cf2-8b30-b63a1661374f",
   "metadata": {},
   "outputs": [
    {
     "name": "stdout",
     "output_type": "stream",
     "text": [
      "Give me a P!\n",
      "P!\n",
      "Give me a y!\n",
      "y!\n",
      "Give me a t!\n",
      "t!\n",
      "Give me a h!\n",
      "h!\n",
      "Give me a o!\n",
      "o!\n",
      "Give me a n!\n",
      "n!\n",
      "\n",
      "What does that spell?!\n",
      "Python!\n",
      "Woohoo! Go Python!\n",
      "*\\O/**\\O/**\\O/*\n",
      "\\( ^o^)/\\(^ _ ^ )\n"
     ]
    }
   ],
   "source": [
    "# create a variable named cheer\n",
    "cheer = \"Python\"\n",
    "\n",
    "# Below string can be used to add fun\n",
    "cheer_symbol = \"*\\O/*\"\n",
    "cheer_symbol_2 = \"\\( ^o^)/\\(^ _ ^ )\"\n",
    "\n",
    "#Loop thru a string\n",
    "for x in cheer:\n",
    "    #Print each letter with a cheer\n",
    "    print(\"Give me a \" + x + \"!\")\n",
    "    print(x + \"!\")\n",
    "\n",
    "#Print excitement to screen\n",
    "print(\"\\nWhat does that spell?!\")\n",
    "print(cheer + \"!\\nWoohoo! Go \" + cheer + \"!\")\n",
    "print(cheer_symbol * 3)\n",
    "print(cheer_symbol_2)"
   ]
  },
  {
   "cell_type": "code",
   "execution_count": 10,
   "id": "27c78565-f370-49ad-9bac-3a07876fcc18",
   "metadata": {},
   "outputs": [
    {
     "name": "stdout",
     "output_type": "stream",
     "text": [
      "The first entry in employees_nested_list is: ['Joe B', 80, 'CEO of 46']\n",
      "Joe B is 80 years old, serving as CEO of 46 \n"
     ]
    }
   ],
   "source": [
    "##2.2 course\n",
    "#List\n",
    "ceo_list = [\"Joe\", \"Jim\", \"Job\"]\n",
    "\n",
    "#List of Lists\n",
    "ceo_nested_list = [\n",
    "    [\"Joe B\", 80, \"CEO of 46\"],\n",
    "    [\"Jim K\", 90, \"CEO of 39\"],\n",
    "    [\"Job S\", 40, \"CEO of Apple\"]\n",
    "]\n",
    "\n",
    "#Retrieve first entry of ceo_nested_list\n",
    "first_entry = ceo_nested_list[0]\n",
    "\n",
    "#Retrieve name of first entry\n",
    "first_entry_name = ceo_nested_list[0][0]\n",
    "\n",
    "#Retrieve age of first entry\n",
    "first_entry_age = ceo_nested_list[0][1]\n",
    "\n",
    "#Retrieve occupation of first entry\n",
    "first_entry_occupation = ceo_nested_list[0][2]\n",
    "\n",
    "#Print results to screen\n",
    "print(\"The first entry in employees_nested_list is:\", first_entry)\n",
    "print(f\"{first_entry_name} is {first_entry_age} years old, serving as {first_entry_occupation} \")"
   ]
  },
  {
   "cell_type": "code",
   "execution_count": 11,
   "id": "f45f3142-b2d2-4707-8b52-24eb78c371db",
   "metadata": {},
   "outputs": [
    {
     "name": "stdout",
     "output_type": "stream",
     "text": [
      "APPL ticker stands for Apple. APPL stock price is currently 101.32, and it is available on NASDAQ.\n"
     ]
    }
   ],
   "source": [
    "#Dictionary of lists\n",
    "stocks_nested_list = {\n",
    "    \"APPL\": [\"Apple\", 101.32, \"NASDAQ\", 937.7],\n",
    "    \"MU\": [\"Micron Tech\", 32.12, \"NASDAQ\", 48.02],\n",
    "    \"AMD\": [\"Advanced Micro Devices\", 23.12, \"NASDAQ\", 23.94],\n",
    "    \"TWTR\": [\"Twitter\", 34.40, \"NASDAQ\", 26.42]\n",
    "}\n",
    "\n",
    "#Retrieve entry for APPL\n",
    "appl_entry = stocks_nested_list[\"APPL\"]\n",
    "\n",
    "#Retrieve name, stcok_price, and exchange for APPL entry\n",
    "appl_name = stocks_nested_list[\"APPL\"][0]\n",
    "appl_stock_price = stocks_nested_list[\"APPL\"][1]\n",
    "appl_exchange = stocks_nested_list[\"APPL\"][2]\n",
    "\n",
    "#Print results to screen\n",
    "print(f\"APPL ticker stands for {appl_name}. APPL stock price is currently {appl_stock_price}, and it is available on {appl_exchange}.\")"
   ]
  },
  {
   "cell_type": "code",
   "execution_count": 13,
   "id": "de28169f-50b9-464b-a980-d50667662f96",
   "metadata": {},
   "outputs": [
    {
     "name": "stdout",
     "output_type": "stream",
     "text": [
      "Name of TWTR ticker is Twitter. TWTR is available on NASDAQ, and its currrent market capitalization is 26.42.\n"
     ]
    }
   ],
   "source": [
    "# Dictionary of Dicts\n",
    "stocks_nested_dict = {\n",
    "    \"APPL\": {\n",
    "        \"name\": \"Apple\",\n",
    "        \"exchange\": \"NASDAQ\",\n",
    "        \"market_cap\": 937.7\n",
    "    },\n",
    "    \"MU\": {\n",
    "        \"name\": \"Micron Tech\",\n",
    "        \"exchange\": \"NASDAQ\",\n",
    "        \"market_cap\": 48.03\n",
    "    },\n",
    "    \"AMD\": {\n",
    "        \"name\": \"Advanced Micro Devices\",\n",
    "        \"exchange\": \"NASDAQ\",\n",
    "        \"market_cap\": 29.94\n",
    "    },\n",
    "    \"TWTR\": {\n",
    "        \"name\": \"Twitter\",\n",
    "        \"exchange\": \"NASDAQ\",\n",
    "        \"market_cap\": 26.42\n",
    "    }\n",
    "}\n",
    "\n",
    "#Retrieve Twitter entry\n",
    "twitter_entry = stocks_nested_dict[\"TWTR\"]\n",
    "\n",
    "#Retrieve TWTR name, exchange, and market_cap\n",
    "twitter_name = stocks_nested_dict[\"TWTR\"][\"name\"]\n",
    "twitter_exchange = stocks_nested_dict[\"TWTR\"][\"exchange\"]\n",
    "twitter_market_cap = stocks_nested_dict[\"TWTR\"][\"market_cap\"]\n",
    "\n",
    "#Print results to screen\n",
    "print(f\"Name of TWTR ticker is {twitter_name}. TWTR is available on {twitter_exchange}, and its currrent market capitalization is {twitter_market_cap}.\")"
   ]
  },
  {
   "cell_type": "code",
   "execution_count": 14,
   "id": "6014eedf-b91e-4189-a415-8aa13444ca01",
   "metadata": {},
   "outputs": [
    {
     "name": "stdout",
     "output_type": "stream",
     "text": [
      "Market Capitalization : 94588216000.0\n"
     ]
    }
   ],
   "source": [
    "#Call a func\n",
    "def calculate_market_cap(market_price, number_of_shares):\n",
    "    cap = market_price * number_of_shares\n",
    "    \n",
    "    return cap\n",
    "market_price = 76.06\n",
    "number_of_shares = 1243600000\n",
    "\n",
    "market_cap = calculate_market_cap(market_price, number_of_shares)\n",
    "print(f\"Market Capitalization : {market_cap}\")"
   ]
  },
  {
   "cell_type": "code",
   "execution_count": 1,
   "id": "505bd4cc-ac83-4ae3-8611-45952861df72",
   "metadata": {},
   "outputs": [
    {
     "name": "stdout",
     "output_type": "stream",
     "text": [
      "x equals one\n"
     ]
    }
   ],
   "source": [
    "##2.3 course\n",
    "## not listed yet, tbc\n",
    "#Variables\n",
    "age = 22\n",
    "hourly_wage = 65\n",
    "\n",
    "#conditionals\n",
    "x = 1\n",
    "y = 10\n",
    "if x ==1:\n",
    "    print(\"x equals one\")"
   ]
  },
  {
   "cell_type": "code",
   "execution_count": 2,
   "id": "09d4194f-05ac-4199-8979-dd4b9f3c0faf",
   "metadata": {},
   "outputs": [
    {
     "name": "stdout",
     "output_type": "stream",
     "text": [
      "0\n",
      "1\n",
      "2\n",
      "3\n",
      "4\n"
     ]
    }
   ],
   "source": [
    "#Lists, Dictionaries\n",
    "#For loop\n",
    "for x in range(5):\n",
    "    print(x)"
   ]
  },
  {
   "cell_type": "code",
   "execution_count": 16,
   "id": "4b1ac6be-2ba0-48cb-90f1-f143727cd470",
   "metadata": {},
   "outputs": [
    {
     "name": "stdout",
     "output_type": "stream",
     "text": [
      "SBUX is booming!\n"
     ]
    }
   ],
   "source": [
    "#Functions\n",
    "def main(stock_sticker):\n",
    "    print(stock_sticker + \" is booming!\")\n",
    "\n",
    "stock_sticker = \"SBUX\"\n",
    "main(stock_sticker)\n",
    "    "
   ]
  },
  {
   "cell_type": "code",
   "execution_count": 19,
   "id": "89bd9ec3-b1ab-467a-bc29-a269fc8fcceb",
   "metadata": {},
   "outputs": [
    {
     "name": "stdout",
     "output_type": "stream",
     "text": [
      "Hey Tom Bell, you are in tier bronze of renevue $0\n",
      "Hey Maggie Johnson, you are in tier silver of renevue $1032.\n",
      "Hey John Spectre, you are in tier gold of renevue $2543.\n",
      "Hey Susy Simmons, you are in tier paltinuem of renevue $5322.\n"
     ]
    }
   ],
   "source": [
    "# List of dicts\n",
    "customers = [\n",
    "    { \"first_name\": \"Tom\", \"last_name\": \"Bell\", \"revenue\": 0 },\n",
    "    { \"first_name\": \"Maggie\", \"last_name\": \"Johnson\", \"revenue\": 1032 },\n",
    "    { \"first_name\": \"John\", \"last_name\": \"Spectre\", \"revenue\": 2543 },\n",
    "    { \"first_name\": \"Susy\", \"last_name\": \"Simmons\", \"revenue\": 5322 }\n",
    "]\n",
    "\n",
    "def create_greeting(first_name, last_name, revenue):\n",
    "    # @TODO: YOUR CODE HERE!\n",
    "    if revenue >= 3001:\n",
    "        greeting = f\"Hey {first_name} {last_name}, you are in tier paltinuem of renevue ${revenue}.\"\n",
    "    elif (revenue > 2000 and revenue <= 3000):\n",
    "        greeting = f\"Hey {first_name} {last_name}, you are in tier gold of renevue ${revenue}.\"\n",
    "    elif (revenue > 1000 and revenue <= 2000):\n",
    "        greeting = f\"Hey {first_name} {last_name}, you are in tier silver of renevue ${revenue}.\"\n",
    "    elif (revenue >= 0 and revenue <= 1000):\n",
    "        greeting = f\"Hey {first_name} {last_name}, you are in tier bronze of renevue ${revenue}\"\n",
    "    return greeting\n",
    "\n",
    "for cust in customers:\n",
    "    greeting = create_greeting(cust[\"first_name\"], cust[\"last_name\"], cust[\"revenue\"])\n",
    "    print(greeting)"
   ]
  },
  {
   "cell_type": "code",
   "execution_count": 20,
   "id": "82c167b5-25fe-40e8-a7f7-9a84a8f77023",
   "metadata": {},
   "outputs": [
    {
     "data": {
      "text/plain": [
       "'Hey Joe Biden, you are in tier paltinuem of renevue $20000000000.'"
      ]
     },
     "execution_count": 20,
     "metadata": {},
     "output_type": "execute_result"
    }
   ],
   "source": [
    "create_greeting(\"Joe\", \"Biden\", 20000000000)"
   ]
  },
  {
   "cell_type": "code",
   "execution_count": 22,
   "id": "64e9d5f3-0719-4de3-abd9-e76e3093450a",
   "metadata": {},
   "outputs": [
    {
     "name": "stdout",
     "output_type": "stream",
     "text": [
      "Tom Bell 0\n",
      "Hey Tom Bell, you are in tier bronze of renevue $0\n",
      "Maggie Johnson 1032\n",
      "Hey Maggie Johnson, you are in tier silver of renevue $1032.\n",
      "John Spectre 2543\n",
      "Hey John Spectre, you are in tier gold of renevue $2543.\n",
      "Susy Simmons 5322\n",
      "Hey Susy Simmons, you are in tier paltinuem of renevue $5322.\n"
     ]
    }
   ],
   "source": [
    "for cust in customers:\n",
    "    print(cust[\"first_name\"], cust[\"last_name\"], cust[\"revenue\"])\n",
    "    greeting = create_greeting(cust[\"first_name\"], cust[\"last_name\"], cust[\"revenue\"])\n",
    "    print(greeting)"
   ]
  },
  {
   "cell_type": "code",
   "execution_count": null,
   "id": "ec5ef9b5-aba2-44f3-873f-70681b16d137",
   "metadata": {},
   "outputs": [],
   "source": []
  }
 ],
 "metadata": {
  "kernelspec": {
   "display_name": "Python 3 (ipykernel)",
   "language": "python",
   "name": "python3"
  },
  "language_info": {
   "codemirror_mode": {
    "name": "ipython",
    "version": 3
   },
   "file_extension": ".py",
   "mimetype": "text/x-python",
   "name": "python",
   "nbconvert_exporter": "python",
   "pygments_lexer": "ipython3",
   "version": "3.7.13"
  }
 },
 "nbformat": 4,
 "nbformat_minor": 5
}
