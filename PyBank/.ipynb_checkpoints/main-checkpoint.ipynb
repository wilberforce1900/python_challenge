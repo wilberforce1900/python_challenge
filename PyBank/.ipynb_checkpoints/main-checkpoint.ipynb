{
 "cells": [
  {
   "cell_type": "code",
   "execution_count": 3,
   "metadata": {},
   "outputs": [
    {
     "name": "stdout",
     "output_type": "stream",
     "text": [
      "['Date', 'Profit/Losses']\n",
      "['Jan-2010', '867884']\n",
      "['Feb-2010', '984655']\n",
      "['Mar-2010', '322013']\n",
      "['Apr-2010', '-69417']\n",
      "['May-2010', '310503']\n",
      "['Jun-2010', '522857']\n",
      "['Jul-2010', '1033096']\n",
      "['Aug-2010', '604885']\n",
      "['Sep-2010', '-216386']\n",
      "['Oct-2010', '477532']\n",
      "['Nov-2010', '893810']\n",
      "['Dec-2010', '-80353']\n",
      "['Jan-2011', '779806']\n",
      "['Feb-2011', '-335203']\n",
      "['Mar-2011', '697845']\n",
      "['Apr-2011', '793163']\n",
      "['May-2011', '485070']\n",
      "['Jun-2011', '584122']\n",
      "['Jul-2011', '62729']\n",
      "['Aug-2011', '668179']\n",
      "['Sep-2011', '899906']\n",
      "['Oct-2011', '834719']\n",
      "['Nov-2011', '132003']\n",
      "['Dec-2011', '309978']\n",
      "['Jan-2012', '-755566']\n",
      "['Feb-2012', '1170593']\n",
      "['Mar-2012', '252788']\n",
      "['Apr-2012', '1151518']\n",
      "['May-2012', '817256']\n",
      "['Jun-2012', '570757']\n",
      "['Jul-2012', '506702']\n",
      "['Aug-2012', '-1022534']\n",
      "['Sep-2012', '475062']\n",
      "['Oct-2012', '779976']\n",
      "['Nov-2012', '144175']\n",
      "['Dec-2012', '542494']\n",
      "['Jan-2013', '359333']\n",
      "['Feb-2013', '321469']\n",
      "['Mar-2013', '67780']\n",
      "['Apr-2013', '471435']\n",
      "['May-2013', '565603']\n",
      "['Jun-2013', '872480']\n",
      "['Jul-2013', '789480']\n",
      "['Aug-2013', '999942']\n",
      "['Sep-2013', '-1196225']\n",
      "['Oct-2013', '268997']\n",
      "['Nov-2013', '-687986']\n",
      "['Dec-2013', '1150461']\n",
      "['Jan-2014', '682458']\n",
      "['Feb-2014', '617856']\n",
      "['Mar-2014', '824098']\n",
      "['Apr-2014', '581943']\n",
      "['May-2014', '132864']\n",
      "['Jun-2014', '448062']\n",
      "['Jul-2014', '689161']\n",
      "['Aug-2014', '800701']\n",
      "['Sep-2014', '1166643']\n",
      "['Oct-2014', '947333']\n",
      "['Nov-2014', '578668']\n",
      "['Dec-2014', '988505']\n",
      "['Jan-2015', '1139715']\n",
      "['Feb-2015', '1029471']\n",
      "['Mar-2015', '687533']\n",
      "['Apr-2015', '-524626']\n",
      "['May-2015', '158620']\n",
      "['Jun-2015', '87795']\n",
      "['Jul-2015', '423389']\n",
      "['Aug-2015', '840723']\n",
      "['Sep-2015', '568529']\n",
      "['Oct-2015', '332067']\n",
      "['Nov-2015', '989499']\n",
      "['Dec-2015', '778237']\n",
      "['Jan-2016', '650000']\n",
      "['Feb-2016', '-1100387']\n",
      "['Mar-2016', '-174946']\n",
      "['Apr-2016', '757143']\n",
      "['May-2016', '445709']\n",
      "['Jun-2016', '712961']\n",
      "['Jul-2016', '-1163797']\n",
      "['Aug-2016', '569899']\n",
      "['Sep-2016', '768450']\n",
      "['Oct-2016', '102685']\n",
      "['Nov-2016', '795914']\n",
      "['Dec-2016', '60988']\n",
      "['Jan-2017', '138230']\n",
      "['Feb-2017', '671099']\n"
     ]
    }
   ],
   "source": [
    "## Xiaoming Wang, 11/18/22\n",
    "## to create the following functions for this file:\n",
    "## The total number of months included in the dataset\n",
    "## The net total amount of Profit/Losses over the entire period\n",
    "## The average of the changes in Profit/Losses over the entire period\n",
    "## The greatest increase in profits (date and amount) over the entire period\n",
    "## The greatest decrease in losses (date and amount) over the entire period\n",
    "\n",
    "# first need to set the file path to cvs file\n",
    "# then need to read the data from csv file\n",
    "# then calculate each data as listed above\n",
    "# use functions to finish the output results\n",
    "\n",
    "# import the pathlib\n",
    "from pathlib import Path\n",
    "import csv\n",
    "\n",
    "# set the file path to csv\n",
    "path = Path('../../Starter_Code/PyBank/Resources/budget_data.csv')\n",
    "\n",
    "# read csv file to show its rows\n",
    "with open(path, 'r') as csvfile:\n",
    "    csvreader = csv.reader(csvfile, delimiter = ',')\n",
    "    for row in csvreader:\n",
    "        print(row)"
   ]
  },
  {
   "cell_type": "code",
   "execution_count": 4,
   "metadata": {},
   "outputs": [
    {
     "name": "stdout",
     "output_type": "stream",
     "text": [
      "total months is 86\n"
     ]
    }
   ],
   "source": [
    "# count total numbers of months in the csv database\n",
    "total_num_month = 0\n",
    "\n",
    "with open(path, 'r') as csvfile:\n",
    "    csvreader = csv.reader(csvfile, delimiter = ',')\n",
    "    # read the head row first\n",
    "    csv_header = next(csvreader)\n",
    "    #print(csv_header) to show the header\n",
    "    # read each row of data after the header\n",
    "\n",
    "    for row in csvreader:\n",
    "        #print(row) #print the row\n",
    "        #set the date, profit/loss = revenue variables for readability convert strings to ints for num calculate\n",
    "        total_num_month += 1\n",
    "print(f\"total months is {total_num_month}\")\n",
    "\n"
   ]
  },
  {
   "cell_type": "code",
   "execution_count": 5,
   "metadata": {},
   "outputs": [
    {
     "name": "stdout",
     "output_type": "stream",
     "text": [
      "total net amount is 38382578\n"
     ]
    }
   ],
   "source": [
    "# calculate the net total amount of Profit/Losses over the entire period\n",
    "net_total = 0\n",
    "\n",
    "with open(path, 'r') as csvfile:\n",
    "    csvreader = csv.reader(csvfile, delimiter = ',')\n",
    "    csv_header = next(csvreader)\n",
    "    #for loop to calculate the row 1 of the profits/losses\n",
    "    for row in csvreader:\n",
    "        revenue = int(row[1])\n",
    "        net_total = revenue + net_total\n",
    "    print(f\"total net amount is {net_total}\")"
   ]
  },
  {
   "cell_type": "code",
   "execution_count": 52,
   "metadata": {},
   "outputs": [
    {
     "name": "stdout",
     "output_type": "stream",
     "text": [
      "[867884, 984655, 322013, -69417, 310503, 522857, 1033096, 604885, -216386, 477532, 893810, -80353, 779806, -335203, 697845, 793163, 485070, 584122, 62729, 668179, 899906, 834719, 132003, 309978, -755566, 1170593, 252788, 1151518, 817256, 570757, 506702, -1022534, 475062, 779976, 144175, 542494, 359333, 321469, 67780, 471435, 565603, 872480, 789480, 999942, -1196225, 268997, -687986, 1150461, 682458, 617856, 824098, 581943, 132864, 448062, 689161, 800701, 1166643, 947333, 578668, 988505, 1139715, 1029471, 687533, -524626, 158620, 87795, 423389, 840723, 568529, 332067, 989499, 778237, 650000, -1100387, -174946, 757143, 445709, 712961, -1163797, 569899, 768450, 102685, 795914, 60988, 138230, 671099]\n",
      "[867884]\n",
      "[671099]\n",
      "867884\n",
      "671099\n",
      "The average of the changes in profit/losses over the entire period is -2315.12\n"
     ]
    }
   ],
   "source": [
    "# calculate the average of the changes in Profit/Losses over the entire period\n",
    "\n",
    "#apply the previous results to calculate the average changes\n",
    "\n",
    "##a=671099\n",
    "##b=867884\n",
    "##c=(a-b)/85\n",
    "##print(round(c,2))\n",
    "\n",
    "##set revenue as an list\n",
    "revenue = []\n",
    "first_val = 0\n",
    "last_val = 0\n",
    "\n",
    "#test: last_revenue = row[1](86)\n",
    "#first_revenue = row[1](1)\n",
    "#print(last_revenue)\n",
    "with open(path, 'r') as csvfile:\n",
    "    csvreader = csv.reader(csvfile, delimiter = ',')\n",
    "    csv_header = next(csvreader)\n",
    "    for row in csvreader:\n",
    "        revenue.append(int(row[1]))\n",
    "    print(revenue)\n",
    "#get the each list of first/last revenue\n",
    "first_revenue = revenue[:1]\n",
    "last_revenue = revenue[(len(revenue)-1):len(revenue)]\n",
    "print(first_revenue)\n",
    "print(last_revenue)\n",
    "#test its type\n",
    "#type(first_revenue)\n",
    "#type(last_revenue)\n",
    "\n",
    "#get first/last value of each list\n",
    "for first_val in first_revenue:\n",
    "    print(first_val)\n",
    "for last_val in last_revenue:\n",
    "    print(last_val)\n",
    "#get the calculation for the result, since average changes means the sum of all changes divided by total period-1, it should be the last value - first value\n",
    "aver_change = round((last_val - first_val)/(total_num_month-1),2)\n",
    "\n",
    "print(f\"The average of the changes in profit/losses over the entire period is {aver_change}\")\n",
    "\n"
   ]
  },
  {
   "cell_type": "code",
   "execution_count": 66,
   "metadata": {},
   "outputs": [
    {
     "ename": "SyntaxError",
     "evalue": "'return' outside function (2537956169.py, line 18)",
     "output_type": "error",
     "traceback": [
      "\u001b[0;36m  File \u001b[0;32m\"/var/folders/b0/1wbtc4s57xb600v54tm8t_kh0000gn/T/ipykernel_1517/2537956169.py\"\u001b[0;36m, line \u001b[0;32m18\u001b[0m\n\u001b[0;31m    return change_revenue\u001b[0m\n\u001b[0m    ^\u001b[0m\n\u001b[0;31mSyntaxError\u001b[0m\u001b[0;31m:\u001b[0m 'return' outside function\n"
     ]
    }
   ],
   "source": [
    "# locate the greatest increase in profits (date and amount) over the entire period\n",
    "#this part if to use the if-else of row[1] to find the largest changes\n",
    "#so the idea is to find the list which contains two close int, and the change is the largest\n",
    "#the initial month is not considered as the initial change\n",
    "\n",
    "##can't figure out the bugs right now but as shown below is what I thought about the logic so far\n",
    "change_revenue = 0\n",
    "with open(path, 'r') as csvfile:\n",
    "    csvreader = csv.reader(csvfile, delimiter = ',')\n",
    "    csv_header = next(csvreader)\n",
    "    for row in csvreader:\n",
    "        revenue.append(int(row[1]))\n",
    "        for change_revenue in revenue:\n",
    "            x = 0\n",
    "            if (revenue[x+1]-revenue[x])<(revenue[x+2]-revenue[x+1]):\n",
    "                change_revenue = revenue[x+2]-revenue[x+1]\n",
    "            elif(revenue[x+1]-revenue[x])>=(revenue[x+2]-revenue[x+1]):\n",
    "                    change_revenue = revenue[x+1]-revenue[x]\n",
    "    return change_revenue\n",
    "    print(change_revenue)\n",
    "    print(x)\n",
    "    print(f\"the greates increase in profits is {row[0](x)} and {row[1](x)}\")\n",
    "        \n",
    "    ##    x=0\n",
    "    ##    if row[1].(x)<row[1].(x+1):\n",
    "    ##        return row[1](x+1)\n",
    "    ##    elif break\n",
    "    ##    return row[1].(x)\n",
    "    ##print(f\"the greates increase in profits is {row[0].(x)} and {row[1].(x)}\")\n"
   ]
  },
  {
   "cell_type": "code",
   "execution_count": 67,
   "metadata": {},
   "outputs": [],
   "source": [
    "# locate the greatest decrease in losses (date and amount) over the entire period\n",
    "#this part if to use the if-else of row[1] to find the least changes, which means the most negative change\n",
    "#the initial month is not considered as the initial change\n",
    "# same logic as above\n",
    "change_revenue = 0\n",
    "with open(path, 'r') as csvfile:\n",
    "    csvreader = csv.reader(csvfile, delimiter = ',')\n",
    "    csv_header = next(csvreader)\n",
    "    for row in csvreader:\n",
    "        revenue.append(int(row[1]))\n",
    "        for change_revenue in revenue:\n",
    "            x = 0\n",
    "            if (revenue[x+1]-revenue[x])>(revenue[x+2]-revenue[x+1]):\n",
    "                change_revenue = revenue[x+2]-revenue[x+1]\n",
    "            elif(revenue[x+1]-revenue[x])<=(revenue[x+2]-revenue[x+1]):\n",
    "                    change_revenue = revenue[x+1]-revenue[x]\n",
    "    return change_revenue\n",
    "    print(change_revenue)\n",
    "    print(x)\n",
    "    print(f\"the greatest decrease in loss is {row[0](x)} and {row[1](x)}\")"
   ]
  },
  {
   "cell_type": "code",
   "execution_count": null,
   "metadata": {},
   "outputs": [],
   "source": []
  },
  {
   "cell_type": "code",
   "execution_count": null,
   "metadata": {},
   "outputs": [],
   "source": []
  }
 ],
 "metadata": {
  "kernelspec": {
   "display_name": "Python 3 (ipykernel)",
   "language": "python",
   "name": "python3"
  },
  "language_info": {
   "codemirror_mode": {
    "name": "ipython",
    "version": 3
   },
   "file_extension": ".py",
   "mimetype": "text/x-python",
   "name": "python",
   "nbconvert_exporter": "python",
   "pygments_lexer": "ipython3",
   "version": "3.7.13"
  },
  "vscode": {
   "interpreter": {
    "hash": "31f2aee4e71d21fbe5cf8b01ff0e069b9275f58929596ceb00d14d90e3e16cd6"
   }
  }
 },
 "nbformat": 4,
 "nbformat_minor": 4
}
